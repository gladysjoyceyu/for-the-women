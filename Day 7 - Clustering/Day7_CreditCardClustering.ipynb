{
  "nbformat": 4,
  "nbformat_minor": 0,
  "metadata": {
    "colab": {
      "name": " Day7_CreditCardClustering.ipynb",
      "provenance": [],
      "collapsed_sections": [],
      "toc_visible": true
    },
    "kernelspec": {
      "name": "python3",
      "display_name": "Python 3"
    }
  },
  "cells": [
    {
      "cell_type": "code",
      "metadata": {
        "id": "lc-uZ_ZhN44k",
        "colab_type": "code",
        "colab": {}
      },
      "source": [
        "import pandas as pd\n",
        "import numpy as np\n",
        "import matplotlib.pyplot as plt\n",
        "import seaborn as sns"
      ],
      "execution_count": 0,
      "outputs": []
    },
    {
      "cell_type": "code",
      "metadata": {
        "id": "JXDvb0xDOQ98",
        "colab_type": "code",
        "colab": {}
      },
      "source": [
        "data = pd.read_csv(\"credit_card_clustering.csv\")"
      ],
      "execution_count": 0,
      "outputs": []
    },
    {
      "cell_type": "code",
      "metadata": {
        "id": "riPA2EWpOUZa",
        "colab_type": "code",
        "outputId": "97d97acf-00a9-41b8-9888-02c1982cfbf3",
        "colab": {
          "base_uri": "https://localhost:8080/",
          "height": 224
        }
      },
      "source": [
        "data.head()"
      ],
      "execution_count": 100,
      "outputs": [
        {
          "output_type": "execute_result",
          "data": {
            "text/html": [
              "<div>\n",
              "<style scoped>\n",
              "    .dataframe tbody tr th:only-of-type {\n",
              "        vertical-align: middle;\n",
              "    }\n",
              "\n",
              "    .dataframe tbody tr th {\n",
              "        vertical-align: top;\n",
              "    }\n",
              "\n",
              "    .dataframe thead th {\n",
              "        text-align: right;\n",
              "    }\n",
              "</style>\n",
              "<table border=\"1\" class=\"dataframe\">\n",
              "  <thead>\n",
              "    <tr style=\"text-align: right;\">\n",
              "      <th></th>\n",
              "      <th>CUST_ID</th>\n",
              "      <th>BALANCE</th>\n",
              "      <th>BALANCE_FREQUENCY</th>\n",
              "      <th>PURCHASES</th>\n",
              "      <th>ONEOFF_PURCHASES</th>\n",
              "      <th>INSTALLMENTS_PURCHASES</th>\n",
              "      <th>CASH_ADVANCE</th>\n",
              "      <th>PURCHASES_FREQUENCY</th>\n",
              "      <th>ONEOFF_PURCHASES_FREQUENCY</th>\n",
              "      <th>PURCHASES_INSTALLMENTS_FREQUENCY</th>\n",
              "      <th>CASH_ADVANCE_FREQUENCY</th>\n",
              "      <th>CASH_ADVANCE_TRX</th>\n",
              "      <th>PURCHASES_TRX</th>\n",
              "      <th>CREDIT_LIMIT</th>\n",
              "      <th>PAYMENTS</th>\n",
              "      <th>MINIMUM_PAYMENTS</th>\n",
              "      <th>PRC_FULL_PAYMENT</th>\n",
              "      <th>TENURE</th>\n",
              "    </tr>\n",
              "  </thead>\n",
              "  <tbody>\n",
              "    <tr>\n",
              "      <th>0</th>\n",
              "      <td>C10001</td>\n",
              "      <td>40.900749</td>\n",
              "      <td>0.818182</td>\n",
              "      <td>95.40</td>\n",
              "      <td>0.00</td>\n",
              "      <td>95.4</td>\n",
              "      <td>0.000000</td>\n",
              "      <td>0.166667</td>\n",
              "      <td>0.000000</td>\n",
              "      <td>0.083333</td>\n",
              "      <td>0.000000</td>\n",
              "      <td>0</td>\n",
              "      <td>2</td>\n",
              "      <td>1000.0</td>\n",
              "      <td>201.802084</td>\n",
              "      <td>139.509787</td>\n",
              "      <td>0.000000</td>\n",
              "      <td>12</td>\n",
              "    </tr>\n",
              "    <tr>\n",
              "      <th>1</th>\n",
              "      <td>C10002</td>\n",
              "      <td>3202.467416</td>\n",
              "      <td>0.909091</td>\n",
              "      <td>0.00</td>\n",
              "      <td>0.00</td>\n",
              "      <td>0.0</td>\n",
              "      <td>6442.945483</td>\n",
              "      <td>0.000000</td>\n",
              "      <td>0.000000</td>\n",
              "      <td>0.000000</td>\n",
              "      <td>0.250000</td>\n",
              "      <td>4</td>\n",
              "      <td>0</td>\n",
              "      <td>7000.0</td>\n",
              "      <td>4103.032597</td>\n",
              "      <td>1072.340217</td>\n",
              "      <td>0.222222</td>\n",
              "      <td>12</td>\n",
              "    </tr>\n",
              "    <tr>\n",
              "      <th>2</th>\n",
              "      <td>C10003</td>\n",
              "      <td>2495.148862</td>\n",
              "      <td>1.000000</td>\n",
              "      <td>773.17</td>\n",
              "      <td>773.17</td>\n",
              "      <td>0.0</td>\n",
              "      <td>0.000000</td>\n",
              "      <td>1.000000</td>\n",
              "      <td>1.000000</td>\n",
              "      <td>0.000000</td>\n",
              "      <td>0.000000</td>\n",
              "      <td>0</td>\n",
              "      <td>12</td>\n",
              "      <td>7500.0</td>\n",
              "      <td>622.066742</td>\n",
              "      <td>627.284787</td>\n",
              "      <td>0.000000</td>\n",
              "      <td>12</td>\n",
              "    </tr>\n",
              "    <tr>\n",
              "      <th>3</th>\n",
              "      <td>C10004</td>\n",
              "      <td>1666.670542</td>\n",
              "      <td>0.636364</td>\n",
              "      <td>1499.00</td>\n",
              "      <td>1499.00</td>\n",
              "      <td>0.0</td>\n",
              "      <td>205.788017</td>\n",
              "      <td>0.083333</td>\n",
              "      <td>0.083333</td>\n",
              "      <td>0.000000</td>\n",
              "      <td>0.083333</td>\n",
              "      <td>1</td>\n",
              "      <td>1</td>\n",
              "      <td>7500.0</td>\n",
              "      <td>0.000000</td>\n",
              "      <td>NaN</td>\n",
              "      <td>0.000000</td>\n",
              "      <td>12</td>\n",
              "    </tr>\n",
              "    <tr>\n",
              "      <th>4</th>\n",
              "      <td>C10005</td>\n",
              "      <td>817.714335</td>\n",
              "      <td>1.000000</td>\n",
              "      <td>16.00</td>\n",
              "      <td>16.00</td>\n",
              "      <td>0.0</td>\n",
              "      <td>0.000000</td>\n",
              "      <td>0.083333</td>\n",
              "      <td>0.083333</td>\n",
              "      <td>0.000000</td>\n",
              "      <td>0.000000</td>\n",
              "      <td>0</td>\n",
              "      <td>1</td>\n",
              "      <td>1200.0</td>\n",
              "      <td>678.334763</td>\n",
              "      <td>244.791237</td>\n",
              "      <td>0.000000</td>\n",
              "      <td>12</td>\n",
              "    </tr>\n",
              "  </tbody>\n",
              "</table>\n",
              "</div>"
            ],
            "text/plain": [
              "  CUST_ID      BALANCE  ...  PRC_FULL_PAYMENT  TENURE\n",
              "0  C10001    40.900749  ...          0.000000      12\n",
              "1  C10002  3202.467416  ...          0.222222      12\n",
              "2  C10003  2495.148862  ...          0.000000      12\n",
              "3  C10004  1666.670542  ...          0.000000      12\n",
              "4  C10005   817.714335  ...          0.000000      12\n",
              "\n",
              "[5 rows x 18 columns]"
            ]
          },
          "metadata": {
            "tags": []
          },
          "execution_count": 100
        }
      ]
    },
    {
      "cell_type": "markdown",
      "metadata": {
        "id": "UTTRZFQJQmXC",
        "colab_type": "text"
      },
      "source": [
        "# Exploratory Data Analysis"
      ]
    },
    {
      "cell_type": "code",
      "metadata": {
        "id": "DWzrWlMaO5_j",
        "colab_type": "code",
        "outputId": "9c2cd7cd-4188-4b55-ca3a-4bf5b63d8655",
        "colab": {
          "base_uri": "https://localhost:8080/",
          "height": 34
        }
      },
      "source": [
        "data.shape"
      ],
      "execution_count": 101,
      "outputs": [
        {
          "output_type": "execute_result",
          "data": {
            "text/plain": [
              "(8950, 18)"
            ]
          },
          "metadata": {
            "tags": []
          },
          "execution_count": 101
        }
      ]
    },
    {
      "cell_type": "markdown",
      "metadata": {
        "id": "0pxHHHgNOWGR",
        "colab_type": "text"
      },
      "source": [
        "### Total Customers: 8950"
      ]
    },
    {
      "cell_type": "code",
      "metadata": {
        "id": "9ZmesyD9Onuq",
        "colab_type": "code",
        "outputId": "4baea38d-1cb3-43c6-a678-04831ca64418",
        "colab": {
          "base_uri": "https://localhost:8080/",
          "height": 34
        }
      },
      "source": [
        "data['CUST_ID'].nunique()"
      ],
      "execution_count": 102,
      "outputs": [
        {
          "output_type": "execute_result",
          "data": {
            "text/plain": [
              "8950"
            ]
          },
          "metadata": {
            "tags": []
          },
          "execution_count": 102
        }
      ]
    },
    {
      "cell_type": "markdown",
      "metadata": {
        "id": "XJb_1fPLPZjh",
        "colab_type": "text"
      },
      "source": [
        "### Descriptive Statistics"
      ]
    },
    {
      "cell_type": "code",
      "metadata": {
        "id": "KTYBVadJO2i_",
        "colab_type": "code",
        "outputId": "299cde93-af94-49b4-e684-f2ce7f1ca754",
        "colab": {
          "base_uri": "https://localhost:8080/",
          "height": 153
        }
      },
      "source": [
        "data['TENURE'].value_counts()"
      ],
      "execution_count": 103,
      "outputs": [
        {
          "output_type": "execute_result",
          "data": {
            "text/plain": [
              "12    7584\n",
              "11     365\n",
              "10     236\n",
              "6      204\n",
              "8      196\n",
              "7      190\n",
              "9      175\n",
              "Name: TENURE, dtype: int64"
            ]
          },
          "metadata": {
            "tags": []
          },
          "execution_count": 103
        }
      ]
    },
    {
      "cell_type": "markdown",
      "metadata": {
        "colab_type": "text",
        "id": "V8Gcohaicr1j"
      },
      "source": [
        "Majority of the customers are old customers (high tenure: 12)"
      ]
    },
    {
      "cell_type": "markdown",
      "metadata": {
        "id": "mLflskPqPQbO",
        "colab_type": "text"
      },
      "source": [
        "### Purchase Transactions Distribution of Customers\n"
      ]
    },
    {
      "cell_type": "code",
      "metadata": {
        "id": "A0vs8-PiPcYN",
        "colab_type": "code",
        "outputId": "073bf4b1-085a-4937-e4c6-b5f0537bd485",
        "colab": {
          "base_uri": "https://localhost:8080/",
          "height": 272
        }
      },
      "source": [
        "data['PURCHASES_TRX'].describe(np.arange(0.1, 1, 0.1))"
      ],
      "execution_count": 104,
      "outputs": [
        {
          "output_type": "execute_result",
          "data": {
            "text/plain": [
              "count    8950.000000\n",
              "mean       14.709832\n",
              "std        24.857649\n",
              "min         0.000000\n",
              "10%         0.000000\n",
              "20%         0.000000\n",
              "30%         1.000000\n",
              "40%         4.000000\n",
              "50%         7.000000\n",
              "60%        11.000000\n",
              "70%        13.000000\n",
              "80%        22.000000\n",
              "90%        37.000000\n",
              "max       358.000000\n",
              "Name: PURCHASES_TRX, dtype: float64"
            ]
          },
          "metadata": {
            "tags": []
          },
          "execution_count": 104
        }
      ]
    },
    {
      "cell_type": "markdown",
      "metadata": {
        "id": "43REfwTpPhQh",
        "colab_type": "text"
      },
      "source": [
        "The balance ranges from 0 to 358 and has a mean of 14"
      ]
    },
    {
      "cell_type": "code",
      "metadata": {
        "id": "EL7nIQRzPUKr",
        "colab_type": "code",
        "outputId": "6394414f-fb2f-44a4-e5dc-1fd2e49bd3ca",
        "colab": {
          "base_uri": "https://localhost:8080/",
          "height": 297
        }
      },
      "source": [
        "sns.distplot(data['PURCHASES_TRX'], kde=False)"
      ],
      "execution_count": 105,
      "outputs": [
        {
          "output_type": "execute_result",
          "data": {
            "text/plain": [
              "<matplotlib.axes._subplots.AxesSubplot at 0x7fa342f04748>"
            ]
          },
          "metadata": {
            "tags": []
          },
          "execution_count": 105
        },
        {
          "output_type": "display_data",
          "data": {
            "image/png": "[encoded data removed]",
            "text/plain": [
              "<Figure size 432x288 with 1 Axes>"
            ]
          },
          "metadata": {
            "tags": []
          }
        }
      ]
    },
    {
      "cell_type": "markdown",
      "metadata": {
        "id": "IUJEe9cDPX0m",
        "colab_type": "text"
      },
      "source": [
        "### Purchase Distribution of Customers"
      ]
    },
    {
      "cell_type": "code",
      "metadata": {
        "id": "2D4DO4vYQZmX",
        "colab_type": "code",
        "outputId": "59aa4e7b-a6b5-43ab-d1cf-a563880a919d",
        "colab": {
          "base_uri": "https://localhost:8080/",
          "height": 272
        }
      },
      "source": [
        "data['PURCHASES'].describe(np.arange(0.1, 1, 0.1))"
      ],
      "execution_count": 106,
      "outputs": [
        {
          "output_type": "execute_result",
          "data": {
            "text/plain": [
              "count     8950.000000\n",
              "mean      1003.204834\n",
              "std       2136.634782\n",
              "min          0.000000\n",
              "10%          0.000000\n",
              "20%          0.000000\n",
              "30%         89.285000\n",
              "40%        212.850000\n",
              "50%        361.280000\n",
              "60%        557.546000\n",
              "70%        894.316000\n",
              "80%       1422.438000\n",
              "90%       2542.624000\n",
              "max      49039.570000\n",
              "Name: PURCHASES, dtype: float64"
            ]
          },
          "metadata": {
            "tags": []
          },
          "execution_count": 106
        }
      ]
    },
    {
      "cell_type": "markdown",
      "metadata": {
        "colab_type": "text",
        "id": "rtETgMwwgLsi"
      },
      "source": [
        "The number of transactions ranges from 0 to 49039 and has a mean of 1003"
      ]
    },
    {
      "cell_type": "code",
      "metadata": {
        "id": "MjgtlSe8QdGO",
        "colab_type": "code",
        "outputId": "429b3759-684a-4760-c44f-fea4def63d0f",
        "colab": {
          "base_uri": "https://localhost:8080/",
          "height": 296
        }
      },
      "source": [
        "sns.distplot(data['PURCHASES'], kde=False)"
      ],
      "execution_count": 107,
      "outputs": [
        {
          "output_type": "execute_result",
          "data": {
            "text/plain": [
              "<matplotlib.axes._subplots.AxesSubplot at 0x7fa342ed83c8>"
            ]
          },
          "metadata": {
            "tags": []
          },
          "execution_count": 107
        },
        {
          "output_type": "display_data",
          "data": {
            "image/png": "[encoded data removed]",
            "text/plain": [
              "<Figure size 432x288 with 1 Axes>"
            ]
          },
          "metadata": {
            "tags": []
          }
        }
      ]
    },
    {
      "cell_type": "markdown",
      "metadata": {
        "colab_type": "text",
        "id": "dI_YNtwnhuhX"
      },
      "source": [
        "### Credit Limit Distribution of Customers\n"
      ]
    },
    {
      "cell_type": "code",
      "metadata": {
        "id": "Dqhx5kFSiih5",
        "colab_type": "code",
        "colab": {}
      },
      "source": [
        "data['CREDIT_LIMIT']=data['CREDIT_LIMIT'].fillna(0)"
      ],
      "execution_count": 0,
      "outputs": []
    },
    {
      "cell_type": "code",
      "metadata": {
        "colab_type": "code",
        "outputId": "d9807f45-d1d8-45f8-c815-193dd9208b9a",
        "id": "RfSiQqATh4MK",
        "colab": {
          "base_uri": "https://localhost:8080/",
          "height": 272
        }
      },
      "source": [
        "data['CREDIT_LIMIT'].describe(np.arange(0.1, 1, 0.1))"
      ],
      "execution_count": 109,
      "outputs": [
        {
          "output_type": "execute_result",
          "data": {
            "text/plain": [
              "count     8950.000000\n",
              "mean      4493.947277\n",
              "std       3638.922543\n",
              "min          0.000000\n",
              "10%       1200.000000\n",
              "20%       1500.000000\n",
              "30%       2000.000000\n",
              "40%       2500.000000\n",
              "50%       3000.000000\n",
              "60%       4200.000000\n",
              "70%       6000.000000\n",
              "80%       7000.000000\n",
              "90%       9500.000000\n",
              "max      30000.000000\n",
              "Name: CREDIT_LIMIT, dtype: float64"
            ]
          },
          "metadata": {
            "tags": []
          },
          "execution_count": 109
        }
      ]
    },
    {
      "cell_type": "markdown",
      "metadata": {
        "colab_type": "text",
        "id": "Fu6HBDJEh_pA"
      },
      "source": [
        "The credit limit ranges from 50 to 30000 and has a mean of 4493"
      ]
    },
    {
      "cell_type": "code",
      "metadata": {
        "id": "kIzFzpg5iSi6",
        "colab_type": "code",
        "colab": {
          "base_uri": "https://localhost:8080/",
          "height": 300
        },
        "outputId": "9fda3c9d-46fb-4e7f-c192-c8e7e29cc813"
      },
      "source": [
        "sns.distplot(data['CREDIT_LIMIT'], kde=False)"
      ],
      "execution_count": 110,
      "outputs": [
        {
          "output_type": "execute_result",
          "data": {
            "text/plain": [
              "<matplotlib.axes._subplots.AxesSubplot at 0x7fa3428e1c18>"
            ]
          },
          "metadata": {
            "tags": []
          },
          "execution_count": 110
        },
        {
          "output_type": "display_data",
          "data": {
            "image/png": "[encoded data removed]",
            "text/plain": [
              "<Figure size 432x288 with 1 Axes>"
            ]
          },
          "metadata": {
            "tags": []
          }
        }
      ]
    },
    {
      "cell_type": "markdown",
      "metadata": {
        "id": "rulXVROOQktg",
        "colab_type": "text"
      },
      "source": [
        "# Clustering"
      ]
    },
    {
      "cell_type": "markdown",
      "metadata": {
        "colab_type": "text",
        "id": "Ugc9swJKiTsx"
      },
      "source": [
        "The number of transactions ranges from 0 to 358 and has a mean of 14"
      ]
    },
    {
      "cell_type": "code",
      "metadata": {
        "id": "eh6RPPyKQqbo",
        "colab_type": "code",
        "colab": {}
      },
      "source": [
        "from sklearn.cluster import KMeans"
      ],
      "execution_count": 0,
      "outputs": []
    },
    {
      "cell_type": "code",
      "metadata": {
        "id": "8IL-NAPHXfqY",
        "colab_type": "code",
        "outputId": "a5b90e0d-d4d9-4600-d78a-9927232bafc3",
        "colab": {
          "base_uri": "https://localhost:8080/",
          "height": 204
        }
      },
      "source": [
        "# Get features we need\n",
        "features = ['CREDIT_LIMIT', 'PURCHASES_TRX', 'PURCHASES']\n",
        "X = data[features]\n",
        "\n",
        "X.head()"
      ],
      "execution_count": 112,
      "outputs": [
        {
          "output_type": "execute_result",
          "data": {
            "text/html": [
              "<div>\n",
              "<style scoped>\n",
              "    .dataframe tbody tr th:only-of-type {\n",
              "        vertical-align: middle;\n",
              "    }\n",
              "\n",
              "    .dataframe tbody tr th {\n",
              "        vertical-align: top;\n",
              "    }\n",
              "\n",
              "    .dataframe thead th {\n",
              "        text-align: right;\n",
              "    }\n",
              "</style>\n",
              "<table border=\"1\" class=\"dataframe\">\n",
              "  <thead>\n",
              "    <tr style=\"text-align: right;\">\n",
              "      <th></th>\n",
              "      <th>CREDIT_LIMIT</th>\n",
              "      <th>PURCHASES_TRX</th>\n",
              "      <th>PURCHASES</th>\n",
              "    </tr>\n",
              "  </thead>\n",
              "  <tbody>\n",
              "    <tr>\n",
              "      <th>0</th>\n",
              "      <td>1000.0</td>\n",
              "      <td>2</td>\n",
              "      <td>95.40</td>\n",
              "    </tr>\n",
              "    <tr>\n",
              "      <th>1</th>\n",
              "      <td>7000.0</td>\n",
              "      <td>0</td>\n",
              "      <td>0.00</td>\n",
              "    </tr>\n",
              "    <tr>\n",
              "      <th>2</th>\n",
              "      <td>7500.0</td>\n",
              "      <td>12</td>\n",
              "      <td>773.17</td>\n",
              "    </tr>\n",
              "    <tr>\n",
              "      <th>3</th>\n",
              "      <td>7500.0</td>\n",
              "      <td>1</td>\n",
              "      <td>1499.00</td>\n",
              "    </tr>\n",
              "    <tr>\n",
              "      <th>4</th>\n",
              "      <td>1200.0</td>\n",
              "      <td>1</td>\n",
              "      <td>16.00</td>\n",
              "    </tr>\n",
              "  </tbody>\n",
              "</table>\n",
              "</div>"
            ],
            "text/plain": [
              "   CREDIT_LIMIT  PURCHASES_TRX  PURCHASES\n",
              "0        1000.0              2      95.40\n",
              "1        7000.0              0       0.00\n",
              "2        7500.0             12     773.17\n",
              "3        7500.0              1    1499.00\n",
              "4        1200.0              1      16.00"
            ]
          },
          "metadata": {
            "tags": []
          },
          "execution_count": 112
        }
      ]
    },
    {
      "cell_type": "code",
      "metadata": {
        "id": "qe3aWEI0ehjG",
        "colab_type": "code",
        "outputId": "944df8e8-6380-42a8-b231-70fb3f9c8cce",
        "colab": {
          "base_uri": "https://localhost:8080/",
          "height": 293
        }
      },
      "source": [
        "# get the sum of squared errors and find where the reduction of the errors are saturated with the increase of k\n",
        "squared_errors = []\n",
        "\n",
        "for num_iter in range(1,21):\n",
        "  km = KMeans(n_clusters=num_iter, random_state=42)\n",
        "  km.fit(X)\n",
        "  squared_errors.append(km.inertia_)\n",
        "\n",
        "# check for the best k to use\n",
        "plt.plot(squared_errors, marker = 'o')"
      ],
      "execution_count": 113,
      "outputs": [
        {
          "output_type": "execute_result",
          "data": {
            "text/plain": [
              "[<matplotlib.lines.Line2D at 0x7fa3427fbc50>]"
            ]
          },
          "metadata": {
            "tags": []
          },
          "execution_count": 113
        },
        {
          "output_type": "display_data",
          "data": {
            "image/png": "[encoded data removed]",
            "text/plain": [
              "<Figure size 432x288 with 1 Axes>"
            ]
          },
          "metadata": {
            "tags": []
          }
        }
      ]
    },
    {
      "cell_type": "markdown",
      "metadata": {
        "id": "ZYTzOIoVerNG",
        "colab_type": "text"
      },
      "source": [
        "Use *k=5*."
      ]
    },
    {
      "cell_type": "code",
      "metadata": {
        "id": "l8QUoI4DX7Nf",
        "colab_type": "code",
        "colab": {}
      },
      "source": [
        "# Clustering using KMeans. We choose 5 clusters\n",
        "km = KMeans(n_clusters = 5, random_state = 42)\n",
        "\n",
        "# Fit data to model\n",
        "km.fit(X)\n",
        "\n",
        "# Get labels\n",
        "labels = km.predict(X)\n",
        "\n",
        "# Create new dataframe with features and labels\n",
        "new_data = X.copy()\n",
        "\n",
        "# Add labels to new_data dataframe\n",
        "new_data['labels'] = labels"
      ],
      "execution_count": 0,
      "outputs": []
    },
    {
      "cell_type": "code",
      "metadata": {
        "id": "1gCNHjXlZQBo",
        "colab_type": "code",
        "outputId": "7db76837-acd9-49d2-85a0-552db33f90ca",
        "colab": {
          "base_uri": "https://localhost:8080/",
          "height": 297
        }
      },
      "source": [
        "new_data.describe()"
      ],
      "execution_count": 115,
      "outputs": [
        {
          "output_type": "execute_result",
          "data": {
            "text/html": [
              "<div>\n",
              "<style scoped>\n",
              "    .dataframe tbody tr th:only-of-type {\n",
              "        vertical-align: middle;\n",
              "    }\n",
              "\n",
              "    .dataframe tbody tr th {\n",
              "        vertical-align: top;\n",
              "    }\n",
              "\n",
              "    .dataframe thead th {\n",
              "        text-align: right;\n",
              "    }\n",
              "</style>\n",
              "<table border=\"1\" class=\"dataframe\">\n",
              "  <thead>\n",
              "    <tr style=\"text-align: right;\">\n",
              "      <th></th>\n",
              "      <th>CREDIT_LIMIT</th>\n",
              "      <th>PURCHASES_TRX</th>\n",
              "      <th>PURCHASES</th>\n",
              "      <th>labels</th>\n",
              "    </tr>\n",
              "  </thead>\n",
              "  <tbody>\n",
              "    <tr>\n",
              "      <th>count</th>\n",
              "      <td>8950.000000</td>\n",
              "      <td>8950.000000</td>\n",
              "      <td>8950.000000</td>\n",
              "      <td>8950.000000</td>\n",
              "    </tr>\n",
              "    <tr>\n",
              "      <th>mean</th>\n",
              "      <td>4493.947277</td>\n",
              "      <td>14.709832</td>\n",
              "      <td>1003.204834</td>\n",
              "      <td>1.277207</td>\n",
              "    </tr>\n",
              "    <tr>\n",
              "      <th>std</th>\n",
              "      <td>3638.922543</td>\n",
              "      <td>24.857649</td>\n",
              "      <td>2136.634782</td>\n",
              "      <td>1.754621</td>\n",
              "    </tr>\n",
              "    <tr>\n",
              "      <th>min</th>\n",
              "      <td>0.000000</td>\n",
              "      <td>0.000000</td>\n",
              "      <td>0.000000</td>\n",
              "      <td>0.000000</td>\n",
              "    </tr>\n",
              "    <tr>\n",
              "      <th>25%</th>\n",
              "      <td>1600.000000</td>\n",
              "      <td>1.000000</td>\n",
              "      <td>39.635000</td>\n",
              "      <td>0.000000</td>\n",
              "    </tr>\n",
              "    <tr>\n",
              "      <th>50%</th>\n",
              "      <td>3000.000000</td>\n",
              "      <td>7.000000</td>\n",
              "      <td>361.280000</td>\n",
              "      <td>0.000000</td>\n",
              "    </tr>\n",
              "    <tr>\n",
              "      <th>75%</th>\n",
              "      <td>6500.000000</td>\n",
              "      <td>17.000000</td>\n",
              "      <td>1110.130000</td>\n",
              "      <td>4.000000</td>\n",
              "    </tr>\n",
              "    <tr>\n",
              "      <th>max</th>\n",
              "      <td>30000.000000</td>\n",
              "      <td>358.000000</td>\n",
              "      <td>49039.570000</td>\n",
              "      <td>4.000000</td>\n",
              "    </tr>\n",
              "  </tbody>\n",
              "</table>\n",
              "</div>"
            ],
            "text/plain": [
              "       CREDIT_LIMIT  PURCHASES_TRX     PURCHASES       labels\n",
              "count   8950.000000    8950.000000   8950.000000  8950.000000\n",
              "mean    4493.947277      14.709832   1003.204834     1.277207\n",
              "std     3638.922543      24.857649   2136.634782     1.754621\n",
              "min        0.000000       0.000000      0.000000     0.000000\n",
              "25%     1600.000000       1.000000     39.635000     0.000000\n",
              "50%     3000.000000       7.000000    361.280000     0.000000\n",
              "75%     6500.000000      17.000000   1110.130000     4.000000\n",
              "max    30000.000000     358.000000  49039.570000     4.000000"
            ]
          },
          "metadata": {
            "tags": []
          },
          "execution_count": 115
        }
      ]
    },
    {
      "cell_type": "markdown",
      "metadata": {
        "id": "I-FwRETgaoKT",
        "colab_type": "text"
      },
      "source": [
        "# Deep Dive to each cluster"
      ]
    },
    {
      "cell_type": "markdown",
      "metadata": {
        "id": "hnXVR-YRdgss",
        "colab_type": "text"
      },
      "source": [
        "*Low Credit and Low Spending Users*\n",
        "\n",
        "Low Credit, Low Purchase Number & Low Purchase Amount"
      ]
    },
    {
      "cell_type": "code",
      "metadata": {
        "id": "DjCzSJYLc6Kv",
        "colab_type": "code",
        "outputId": "e09634a6-b530-40d0-c4c6-f55ffb5d3798",
        "colab": {
          "base_uri": "https://localhost:8080/",
          "height": 297
        }
      },
      "source": [
        "# Cluster 0\n",
        "cluster_0 = new_data[new_data['labels']==0]\n",
        "cluster_0.describe()"
      ],
      "execution_count": 121,
      "outputs": [
        {
          "output_type": "execute_result",
          "data": {
            "text/html": [
              "<div>\n",
              "<style scoped>\n",
              "    .dataframe tbody tr th:only-of-type {\n",
              "        vertical-align: middle;\n",
              "    }\n",
              "\n",
              "    .dataframe tbody tr th {\n",
              "        vertical-align: top;\n",
              "    }\n",
              "\n",
              "    .dataframe thead th {\n",
              "        text-align: right;\n",
              "    }\n",
              "</style>\n",
              "<table border=\"1\" class=\"dataframe\">\n",
              "  <thead>\n",
              "    <tr style=\"text-align: right;\">\n",
              "      <th></th>\n",
              "      <th>CREDIT_LIMIT</th>\n",
              "      <th>PURCHASES_TRX</th>\n",
              "      <th>PURCHASES</th>\n",
              "      <th>labels</th>\n",
              "    </tr>\n",
              "  </thead>\n",
              "  <tbody>\n",
              "    <tr>\n",
              "      <th>count</th>\n",
              "      <td>5373.000000</td>\n",
              "      <td>5373.000000</td>\n",
              "      <td>5373.000000</td>\n",
              "      <td>5373.0</td>\n",
              "    </tr>\n",
              "    <tr>\n",
              "      <th>mean</th>\n",
              "      <td>2133.544988</td>\n",
              "      <td>9.856133</td>\n",
              "      <td>537.661686</td>\n",
              "      <td>0.0</td>\n",
              "    </tr>\n",
              "    <tr>\n",
              "      <th>std</th>\n",
              "      <td>997.191207</td>\n",
              "      <td>14.096570</td>\n",
              "      <td>780.407207</td>\n",
              "      <td>0.0</td>\n",
              "    </tr>\n",
              "    <tr>\n",
              "      <th>min</th>\n",
              "      <td>0.000000</td>\n",
              "      <td>0.000000</td>\n",
              "      <td>0.000000</td>\n",
              "      <td>0.0</td>\n",
              "    </tr>\n",
              "    <tr>\n",
              "      <th>25%</th>\n",
              "      <td>1200.000000</td>\n",
              "      <td>0.000000</td>\n",
              "      <td>0.000000</td>\n",
              "      <td>0.0</td>\n",
              "    </tr>\n",
              "    <tr>\n",
              "      <th>50%</th>\n",
              "      <td>2000.000000</td>\n",
              "      <td>6.000000</td>\n",
              "      <td>252.000000</td>\n",
              "      <td>0.0</td>\n",
              "    </tr>\n",
              "    <tr>\n",
              "      <th>75%</th>\n",
              "      <td>3000.000000</td>\n",
              "      <td>12.000000</td>\n",
              "      <td>689.670000</td>\n",
              "      <td>0.0</td>\n",
              "    </tr>\n",
              "    <tr>\n",
              "      <th>max</th>\n",
              "      <td>4350.000000</td>\n",
              "      <td>186.000000</td>\n",
              "      <td>6661.250000</td>\n",
              "      <td>0.0</td>\n",
              "    </tr>\n",
              "  </tbody>\n",
              "</table>\n",
              "</div>"
            ],
            "text/plain": [
              "       CREDIT_LIMIT  PURCHASES_TRX    PURCHASES  labels\n",
              "count   5373.000000    5373.000000  5373.000000  5373.0\n",
              "mean    2133.544988       9.856133   537.661686     0.0\n",
              "std      997.191207      14.096570   780.407207     0.0\n",
              "min        0.000000       0.000000     0.000000     0.0\n",
              "25%     1200.000000       0.000000     0.000000     0.0\n",
              "50%     2000.000000       6.000000   252.000000     0.0\n",
              "75%     3000.000000      12.000000   689.670000     0.0\n",
              "max     4350.000000     186.000000  6661.250000     0.0"
            ]
          },
          "metadata": {
            "tags": []
          },
          "execution_count": 121
        }
      ]
    },
    {
      "cell_type": "markdown",
      "metadata": {
        "id": "TAu_kbMvdl0C",
        "colab_type": "text"
      },
      "source": [
        "*Rich but low spending customers (May be using other credit cards, offer discounts that others don't have)* \n",
        "\n",
        "High Credit, Average Purchase Number & Low Purchase Amount"
      ]
    },
    {
      "cell_type": "code",
      "metadata": {
        "id": "GjJcGRJebtu6",
        "colab_type": "code",
        "outputId": "c89cad8c-ce4c-43e6-eb8f-957e9aa559f3",
        "colab": {
          "base_uri": "https://localhost:8080/",
          "height": 297
        }
      },
      "source": [
        "# Cluster 1 \n",
        "cluster_1 = new_data[new_data['labels']==1]\n",
        "cluster_1.describe()"
      ],
      "execution_count": 117,
      "outputs": [
        {
          "output_type": "execute_result",
          "data": {
            "text/html": [
              "<div>\n",
              "<style scoped>\n",
              "    .dataframe tbody tr th:only-of-type {\n",
              "        vertical-align: middle;\n",
              "    }\n",
              "\n",
              "    .dataframe tbody tr th {\n",
              "        vertical-align: top;\n",
              "    }\n",
              "\n",
              "    .dataframe thead th {\n",
              "        text-align: right;\n",
              "    }\n",
              "</style>\n",
              "<table border=\"1\" class=\"dataframe\">\n",
              "  <thead>\n",
              "    <tr style=\"text-align: right;\">\n",
              "      <th></th>\n",
              "      <th>CREDIT_LIMIT</th>\n",
              "      <th>PURCHASES_TRX</th>\n",
              "      <th>PURCHASES</th>\n",
              "      <th>labels</th>\n",
              "    </tr>\n",
              "  </thead>\n",
              "  <tbody>\n",
              "    <tr>\n",
              "      <th>count</th>\n",
              "      <td>735.000000</td>\n",
              "      <td>735.000000</td>\n",
              "      <td>735.000000</td>\n",
              "      <td>735.0</td>\n",
              "    </tr>\n",
              "    <tr>\n",
              "      <th>mean</th>\n",
              "      <td>12806.054422</td>\n",
              "      <td>19.663946</td>\n",
              "      <td>1379.781116</td>\n",
              "      <td>1.0</td>\n",
              "    </tr>\n",
              "    <tr>\n",
              "      <th>std</th>\n",
              "      <td>2804.171804</td>\n",
              "      <td>26.598385</td>\n",
              "      <td>1723.410910</td>\n",
              "      <td>0.0</td>\n",
              "    </tr>\n",
              "    <tr>\n",
              "      <th>min</th>\n",
              "      <td>9950.000000</td>\n",
              "      <td>0.000000</td>\n",
              "      <td>0.000000</td>\n",
              "      <td>1.0</td>\n",
              "    </tr>\n",
              "    <tr>\n",
              "      <th>25%</th>\n",
              "      <td>10500.000000</td>\n",
              "      <td>1.000000</td>\n",
              "      <td>110.820000</td>\n",
              "      <td>1.0</td>\n",
              "    </tr>\n",
              "    <tr>\n",
              "      <th>50%</th>\n",
              "      <td>12000.000000</td>\n",
              "      <td>10.000000</td>\n",
              "      <td>717.920000</td>\n",
              "      <td>1.0</td>\n",
              "    </tr>\n",
              "    <tr>\n",
              "      <th>75%</th>\n",
              "      <td>14500.000000</td>\n",
              "      <td>27.000000</td>\n",
              "      <td>1973.105000</td>\n",
              "      <td>1.0</td>\n",
              "    </tr>\n",
              "    <tr>\n",
              "      <th>max</th>\n",
              "      <td>30000.000000</td>\n",
              "      <td>216.000000</td>\n",
              "      <td>10410.490000</td>\n",
              "      <td>1.0</td>\n",
              "    </tr>\n",
              "  </tbody>\n",
              "</table>\n",
              "</div>"
            ],
            "text/plain": [
              "       CREDIT_LIMIT  PURCHASES_TRX     PURCHASES  labels\n",
              "count    735.000000     735.000000    735.000000   735.0\n",
              "mean   12806.054422      19.663946   1379.781116     1.0\n",
              "std     2804.171804      26.598385   1723.410910     0.0\n",
              "min     9950.000000       0.000000      0.000000     1.0\n",
              "25%    10500.000000       1.000000    110.820000     1.0\n",
              "50%    12000.000000      10.000000    717.920000     1.0\n",
              "75%    14500.000000      27.000000   1973.105000     1.0\n",
              "max    30000.000000     216.000000  10410.490000     1.0"
            ]
          },
          "metadata": {
            "tags": []
          },
          "execution_count": 117
        }
      ]
    },
    {
      "cell_type": "markdown",
      "metadata": {
        "id": "_5ypez6tdxis",
        "colab_type": "text"
      },
      "source": [
        "*High Spending Customers (Offer higher credit limit)*\n",
        "\n",
        "Average Credit, High Purchase Number & High Purchase Amount"
      ]
    },
    {
      "cell_type": "code",
      "metadata": {
        "id": "H5ssZ-z9bvLZ",
        "colab_type": "code",
        "outputId": "f948b364-873e-4046-ab77-e8fecd7e66f2",
        "colab": {
          "base_uri": "https://localhost:8080/",
          "height": 297
        }
      },
      "source": [
        "# Cluster 2\n",
        "cluster_2 = new_data[new_data['labels']==2]\n",
        "cluster_2.describe()"
      ],
      "execution_count": 118,
      "outputs": [
        {
          "output_type": "execute_result",
          "data": {
            "text/html": [
              "<div>\n",
              "<style scoped>\n",
              "    .dataframe tbody tr th:only-of-type {\n",
              "        vertical-align: middle;\n",
              "    }\n",
              "\n",
              "    .dataframe tbody tr th {\n",
              "        vertical-align: top;\n",
              "    }\n",
              "\n",
              "    .dataframe thead th {\n",
              "        text-align: right;\n",
              "    }\n",
              "</style>\n",
              "<table border=\"1\" class=\"dataframe\">\n",
              "  <thead>\n",
              "    <tr style=\"text-align: right;\">\n",
              "      <th></th>\n",
              "      <th>CREDIT_LIMIT</th>\n",
              "      <th>PURCHASES_TRX</th>\n",
              "      <th>PURCHASES</th>\n",
              "      <th>labels</th>\n",
              "    </tr>\n",
              "  </thead>\n",
              "  <tbody>\n",
              "    <tr>\n",
              "      <th>count</th>\n",
              "      <td>324.000000</td>\n",
              "      <td>324.000000</td>\n",
              "      <td>324.000000</td>\n",
              "      <td>324.0</td>\n",
              "    </tr>\n",
              "    <tr>\n",
              "      <th>mean</th>\n",
              "      <td>8265.895062</td>\n",
              "      <td>75.515432</td>\n",
              "      <td>6749.877994</td>\n",
              "      <td>2.0</td>\n",
              "    </tr>\n",
              "    <tr>\n",
              "      <th>std</th>\n",
              "      <td>2826.253874</td>\n",
              "      <td>56.022964</td>\n",
              "      <td>2690.553577</td>\n",
              "      <td>0.0</td>\n",
              "    </tr>\n",
              "    <tr>\n",
              "      <th>min</th>\n",
              "      <td>1000.000000</td>\n",
              "      <td>4.000000</td>\n",
              "      <td>3393.250000</td>\n",
              "      <td>2.0</td>\n",
              "    </tr>\n",
              "    <tr>\n",
              "      <th>25%</th>\n",
              "      <td>6425.000000</td>\n",
              "      <td>39.750000</td>\n",
              "      <td>4700.992500</td>\n",
              "      <td>2.0</td>\n",
              "    </tr>\n",
              "    <tr>\n",
              "      <th>50%</th>\n",
              "      <td>8000.000000</td>\n",
              "      <td>61.500000</td>\n",
              "      <td>5842.060000</td>\n",
              "      <td>2.0</td>\n",
              "    </tr>\n",
              "    <tr>\n",
              "      <th>75%</th>\n",
              "      <td>10000.000000</td>\n",
              "      <td>100.250000</td>\n",
              "      <td>8288.807500</td>\n",
              "      <td>2.0</td>\n",
              "    </tr>\n",
              "    <tr>\n",
              "      <th>max</th>\n",
              "      <td>18000.000000</td>\n",
              "      <td>347.000000</td>\n",
              "      <td>15704.040000</td>\n",
              "      <td>2.0</td>\n",
              "    </tr>\n",
              "  </tbody>\n",
              "</table>\n",
              "</div>"
            ],
            "text/plain": [
              "       CREDIT_LIMIT  PURCHASES_TRX     PURCHASES  labels\n",
              "count    324.000000     324.000000    324.000000   324.0\n",
              "mean    8265.895062      75.515432   6749.877994     2.0\n",
              "std     2826.253874      56.022964   2690.553577     0.0\n",
              "min     1000.000000       4.000000   3393.250000     2.0\n",
              "25%     6425.000000      39.750000   4700.992500     2.0\n",
              "50%     8000.000000      61.500000   5842.060000     2.0\n",
              "75%    10000.000000     100.250000   8288.807500     2.0\n",
              "max    18000.000000     347.000000  15704.040000     2.0"
            ]
          },
          "metadata": {
            "tags": []
          },
          "execution_count": 118
        }
      ]
    },
    {
      "cell_type": "markdown",
      "metadata": {
        "id": "6AudyQ7Pd1TP",
        "colab_type": "text"
      },
      "source": [
        "*Valued Customers (Offer rewards and discounts)* \n",
        "\n",
        "High Credit, High Purchase Number & High Purchase Amount"
      ]
    },
    {
      "cell_type": "code",
      "metadata": {
        "id": "-N6iG4cQctfi",
        "colab_type": "code",
        "outputId": "9b9bae73-9a73-4ef9-eef0-65571ba0261a",
        "colab": {
          "base_uri": "https://localhost:8080/",
          "height": 297
        }
      },
      "source": [
        "# Cluster 3\n",
        "cluster_3 = new_data[new_data['labels']==3]\n",
        "cluster_3.describe()"
      ],
      "execution_count": 119,
      "outputs": [
        {
          "output_type": "execute_result",
          "data": {
            "text/html": [
              "<div>\n",
              "<style scoped>\n",
              "    .dataframe tbody tr th:only-of-type {\n",
              "        vertical-align: middle;\n",
              "    }\n",
              "\n",
              "    .dataframe tbody tr th {\n",
              "        vertical-align: top;\n",
              "    }\n",
              "\n",
              "    .dataframe thead th {\n",
              "        text-align: right;\n",
              "    }\n",
              "</style>\n",
              "<table border=\"1\" class=\"dataframe\">\n",
              "  <thead>\n",
              "    <tr style=\"text-align: right;\">\n",
              "      <th></th>\n",
              "      <th>CREDIT_LIMIT</th>\n",
              "      <th>PURCHASES_TRX</th>\n",
              "      <th>PURCHASES</th>\n",
              "      <th>labels</th>\n",
              "    </tr>\n",
              "  </thead>\n",
              "  <tbody>\n",
              "    <tr>\n",
              "      <th>count</th>\n",
              "      <td>24.000000</td>\n",
              "      <td>24.000000</td>\n",
              "      <td>24.000000</td>\n",
              "      <td>24.0</td>\n",
              "    </tr>\n",
              "    <tr>\n",
              "      <th>mean</th>\n",
              "      <td>16333.333333</td>\n",
              "      <td>123.375000</td>\n",
              "      <td>27690.865833</td>\n",
              "      <td>3.0</td>\n",
              "    </tr>\n",
              "    <tr>\n",
              "      <th>std</th>\n",
              "      <td>5745.823940</td>\n",
              "      <td>90.941363</td>\n",
              "      <td>8068.491163</td>\n",
              "      <td>0.0</td>\n",
              "    </tr>\n",
              "    <tr>\n",
              "      <th>min</th>\n",
              "      <td>7500.000000</td>\n",
              "      <td>3.000000</td>\n",
              "      <td>17409.210000</td>\n",
              "      <td>3.0</td>\n",
              "    </tr>\n",
              "    <tr>\n",
              "      <th>25%</th>\n",
              "      <td>12000.000000</td>\n",
              "      <td>66.500000</td>\n",
              "      <td>22078.815000</td>\n",
              "      <td>3.0</td>\n",
              "    </tr>\n",
              "    <tr>\n",
              "      <th>50%</th>\n",
              "      <td>17000.000000</td>\n",
              "      <td>99.500000</td>\n",
              "      <td>26008.730000</td>\n",
              "      <td>3.0</td>\n",
              "    </tr>\n",
              "    <tr>\n",
              "      <th>75%</th>\n",
              "      <td>18000.000000</td>\n",
              "      <td>161.500000</td>\n",
              "      <td>31609.457500</td>\n",
              "      <td>3.0</td>\n",
              "    </tr>\n",
              "    <tr>\n",
              "      <th>max</th>\n",
              "      <td>30000.000000</td>\n",
              "      <td>358.000000</td>\n",
              "      <td>49039.570000</td>\n",
              "      <td>3.0</td>\n",
              "    </tr>\n",
              "  </tbody>\n",
              "</table>\n",
              "</div>"
            ],
            "text/plain": [
              "       CREDIT_LIMIT  PURCHASES_TRX     PURCHASES  labels\n",
              "count     24.000000      24.000000     24.000000    24.0\n",
              "mean   16333.333333     123.375000  27690.865833     3.0\n",
              "std     5745.823940      90.941363   8068.491163     0.0\n",
              "min     7500.000000       3.000000  17409.210000     3.0\n",
              "25%    12000.000000      66.500000  22078.815000     3.0\n",
              "50%    17000.000000      99.500000  26008.730000     3.0\n",
              "75%    18000.000000     161.500000  31609.457500     3.0\n",
              "max    30000.000000     358.000000  49039.570000     3.0"
            ]
          },
          "metadata": {
            "tags": []
          },
          "execution_count": 119
        }
      ]
    },
    {
      "cell_type": "markdown",
      "metadata": {
        "colab_type": "text",
        "id": "4qjGBtATl31f"
      },
      "source": [
        "*Average Customer (Offer discounts to make them spend more)*\n",
        "\n",
        "Average Credit, Average Purchase Number & Low Purchase Amount"
      ]
    },
    {
      "cell_type": "code",
      "metadata": {
        "id": "VDcgknIdlrHe",
        "colab_type": "code",
        "colab": {
          "base_uri": "https://localhost:8080/",
          "height": 297
        },
        "outputId": "13fb3913-ea54-4058-a899-78fb5d324381"
      },
      "source": [
        "# Cluster 4\n",
        "cluster_4 = new_data[new_data['labels']==4]\n",
        "cluster_4.describe()"
      ],
      "execution_count": 120,
      "outputs": [
        {
          "output_type": "execute_result",
          "data": {
            "text/html": [
              "<div>\n",
              "<style scoped>\n",
              "    .dataframe tbody tr th:only-of-type {\n",
              "        vertical-align: middle;\n",
              "    }\n",
              "\n",
              "    .dataframe tbody tr th {\n",
              "        vertical-align: top;\n",
              "    }\n",
              "\n",
              "    .dataframe thead th {\n",
              "        text-align: right;\n",
              "    }\n",
              "</style>\n",
              "<table border=\"1\" class=\"dataframe\">\n",
              "  <thead>\n",
              "    <tr style=\"text-align: right;\">\n",
              "      <th></th>\n",
              "      <th>CREDIT_LIMIT</th>\n",
              "      <th>PURCHASES_TRX</th>\n",
              "      <th>PURCHASES</th>\n",
              "      <th>labels</th>\n",
              "    </tr>\n",
              "  </thead>\n",
              "  <tbody>\n",
              "    <tr>\n",
              "      <th>count</th>\n",
              "      <td>2494.000000</td>\n",
              "      <td>2494.000000</td>\n",
              "      <td>2494.000000</td>\n",
              "      <td>2494.0</td>\n",
              "    </tr>\n",
              "    <tr>\n",
              "      <th>mean</th>\n",
              "      <td>6525.537654</td>\n",
              "      <td>14.761427</td>\n",
              "      <td>891.798978</td>\n",
              "      <td>4.0</td>\n",
              "    </tr>\n",
              "    <tr>\n",
              "      <th>std</th>\n",
              "      <td>1425.009618</td>\n",
              "      <td>21.128502</td>\n",
              "      <td>996.102347</td>\n",
              "      <td>0.0</td>\n",
              "    </tr>\n",
              "    <tr>\n",
              "      <th>min</th>\n",
              "      <td>4200.000000</td>\n",
              "      <td>0.000000</td>\n",
              "      <td>0.000000</td>\n",
              "      <td>4.0</td>\n",
              "    </tr>\n",
              "    <tr>\n",
              "      <th>25%</th>\n",
              "      <td>5000.000000</td>\n",
              "      <td>1.000000</td>\n",
              "      <td>63.280000</td>\n",
              "      <td>4.0</td>\n",
              "    </tr>\n",
              "    <tr>\n",
              "      <th>50%</th>\n",
              "      <td>6500.000000</td>\n",
              "      <td>8.000000</td>\n",
              "      <td>502.940000</td>\n",
              "      <td>4.0</td>\n",
              "    </tr>\n",
              "    <tr>\n",
              "      <th>75%</th>\n",
              "      <td>7500.000000</td>\n",
              "      <td>21.000000</td>\n",
              "      <td>1394.405000</td>\n",
              "      <td>4.0</td>\n",
              "    </tr>\n",
              "    <tr>\n",
              "      <th>max</th>\n",
              "      <td>9700.000000</td>\n",
              "      <td>254.000000</td>\n",
              "      <td>4587.210000</td>\n",
              "      <td>4.0</td>\n",
              "    </tr>\n",
              "  </tbody>\n",
              "</table>\n",
              "</div>"
            ],
            "text/plain": [
              "       CREDIT_LIMIT  PURCHASES_TRX    PURCHASES  labels\n",
              "count   2494.000000    2494.000000  2494.000000  2494.0\n",
              "mean    6525.537654      14.761427   891.798978     4.0\n",
              "std     1425.009618      21.128502   996.102347     0.0\n",
              "min     4200.000000       0.000000     0.000000     4.0\n",
              "25%     5000.000000       1.000000    63.280000     4.0\n",
              "50%     6500.000000       8.000000   502.940000     4.0\n",
              "75%     7500.000000      21.000000  1394.405000     4.0\n",
              "max     9700.000000     254.000000  4587.210000     4.0"
            ]
          },
          "metadata": {
            "tags": []
          },
          "execution_count": 120
        }
      ]
    }
  ]
}
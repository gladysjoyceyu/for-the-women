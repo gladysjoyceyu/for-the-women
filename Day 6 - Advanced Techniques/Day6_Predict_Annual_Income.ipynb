{
  "nbformat": 4,
  "nbformat_minor": 0,
  "metadata": {
    "colab": {
      "name": "Day6_Predict_Annual_Income.ipynb",
      "provenance": [],
      "collapsed_sections": []
    },
    "kernelspec": {
      "name": "python3",
      "display_name": "Python 3"
    }
  },
  "cells": [
    {
      "cell_type": "code",
      "metadata": {
        "id": "NyTP1Tiu_An-",
        "colab_type": "code",
        "colab": {}
      },
      "source": [
        "# IMPORT GENERIC PACKAGES\n",
        "import numpy as np \n",
        "import pandas as pd \n",
        "import matplotlib.pyplot as plt \n",
        "import seaborn as sns\n",
        "%matplotlib inline\n",
        "\n",
        "sns.set(rc={'figure.figsize':(20,10)})\n",
        "#from sklearn import datasets\n",
        "import xgboost as xgb\n",
        "from sklearn.ensemble import RandomForestClassifier\n",
        "from sklearn.feature_selection import RFE\n",
        "from sklearn.model_selection import train_test_split, RandomizedSearchCV, GridSearchCV, cross_val_score \n",
        "from sklearn import metrics\n",
        "import pandas_profiling as pp\n",
        "\n",
        "import warnings\n",
        "warnings.filterwarnings(\"ignore\", category=FutureWarning)"
      ],
      "execution_count": 0,
      "outputs": []
    },
    {
      "cell_type": "code",
      "metadata": {
        "id": "I4aeUILL_75G",
        "colab_type": "code",
        "colab": {}
      },
      "source": [
        "data = pd.read_csv(\"census.csv\", delimiter=\",\")"
      ],
      "execution_count": 0,
      "outputs": []
    },
    {
      "cell_type": "code",
      "metadata": {
        "id": "fvdk_ETMJzxp",
        "colab_type": "code",
        "colab": {}
      },
      "source": [
        "#report = pp.ProfileReport(data)\n",
        "#report.to_file('data_assessment.html')\n",
        "#report"
      ],
      "execution_count": 0,
      "outputs": []
    },
    {
      "cell_type": "code",
      "metadata": {
        "id": "JwRIaFnzTgEz",
        "colab_type": "code",
        "outputId": "991d865a-d4bb-43dc-ae9d-ae7b29a619e2",
        "colab": {
          "base_uri": "https://localhost:8080/",
          "height": 34
        }
      },
      "source": [
        "sns.scatterplot(x=\"education_level\", y = \"education-num\", data = data)"
      ],
      "execution_count": 0,
      "outputs": [
        {
          "output_type": "execute_result",
          "data": {
            "text/plain": [
              "<matplotlib.axes._subplots.AxesSubplot at 0x7f1fb6c03e10>"
            ]
          },
          "metadata": {
            "tags": []
          },
          "execution_count": 4
        }
      ]
    },
    {
      "cell_type": "code",
      "metadata": {
        "id": "R1z7NNDVLhwN",
        "colab_type": "code",
        "colab": {}
      },
      "source": [
        "# drop capital gain and loss almost 90% zeros\n",
        "data = data.drop(columns=['capital-gain', 'capital-loss','education_level'])\n",
        "bins = [10, 20, 30, 40, 50, 60, 70, 80, 90]\n",
        "age_group = ['10-20','20-30','30-40','40-50','50-60', '60-70','70-80','80-90']\n",
        "#age_group=[1,2,3,4,5,6,7,8]\n",
        "age_categories = pd.cut(data['age'], bins, labels=age_group)\n",
        "data['age_category'] = age_categories\n",
        "#print(data['age_category'], data['age'])\n",
        "data = data.drop(columns='age')\n",
        "#sns.boxplot(x=\"age_category\", y = \"sex\", hue=\"income\", data = data)"
      ],
      "execution_count": 0,
      "outputs": []
    },
    {
      "cell_type": "code",
      "metadata": {
        "id": "IdWGh5tsBquV",
        "colab_type": "code",
        "outputId": "a84eab15-2dde-4df8-b433-07072a39c228",
        "colab": {
          "base_uri": "https://localhost:8080/",
          "height": 221
        }
      },
      "source": [
        "data.dtypes"
      ],
      "execution_count": 0,
      "outputs": [
        {
          "output_type": "execute_result",
          "data": {
            "text/plain": [
              "workclass           object\n",
              "education-num      float64\n",
              "marital-status      object\n",
              "occupation          object\n",
              "relationship        object\n",
              "race                object\n",
              "sex                 object\n",
              "hours-per-week     float64\n",
              "native-country      object\n",
              "income              object\n",
              "age_category      category\n",
              "dtype: object"
            ]
          },
          "metadata": {
            "tags": []
          },
          "execution_count": 6
        }
      ]
    },
    {
      "cell_type": "code",
      "metadata": {
        "id": "j4ITWEBJH9JJ",
        "colab_type": "code",
        "outputId": "85cb86db-4f43-4ae9-fc21-b75b97bd1b4d",
        "colab": {
          "base_uri": "https://localhost:8080/",
          "height": 34
        }
      },
      "source": [
        "target = \"income\"\n",
        "cat_names = ['workclass', 'marital-status', 'occupation', 'relationship', 'race', 'sex', 'native-country', 'age_category'] \n",
        "cont_names = ['education-num', 'hours-per-week']\n",
        "df_cat = pd.get_dummies(data[cat_names].astype(str))\n",
        "# df_cat = pd.get_dummies(data[cat_names].astype(str),drop_first=True)\n",
        "df_cont = data[cont_names]\n",
        "X = pd.concat([df_cat, df_cont], axis = 1)\n",
        "y = data['income'] == '>50K'\n",
        "X.shape"
      ],
      "execution_count": 0,
      "outputs": [
        {
          "output_type": "execute_result",
          "data": {
            "text/plain": [
              "(45222, 92)"
            ]
          },
          "metadata": {
            "tags": []
          },
          "execution_count": 7
        }
      ]
    },
    {
      "cell_type": "code",
      "metadata": {
        "id": "jWLEs5d0gz3G",
        "colab_type": "code",
        "colab": {}
      },
      "source": [
        "def feat_func():\n",
        "  select_feat = pd.DataFrame()\n",
        "  select_feat['feature'] = X.columns\n",
        "  select_feat['rank'] = selector.ranking_\n",
        "  select_feat.head()\n",
        "  feat = select_feat[select_feat['rank'] == 1]['feature']\n",
        "  feat = feat.tolist()\n",
        "  return feat"
      ],
      "execution_count": 0,
      "outputs": []
    },
    {
      "cell_type": "code",
      "metadata": {
        "id": "GvUjwpPrbJn_",
        "colab_type": "code",
        "outputId": "6b360d8c-7eb7-47dc-e926-d10842e3e46c",
        "colab": {
          "base_uri": "https://localhost:8080/",
          "height": 119
        }
      },
      "source": [
        "# XGBoost with RFE\n",
        "estimator = xgb.XGBClassifier()\n",
        "selector = RFE(estimator, 80, step=1)\n",
        "selector = selector.fit(X, y)\n",
        "selector.ranking_"
      ],
      "execution_count": 0,
      "outputs": [
        {
          "output_type": "execute_result",
          "data": {
            "text/plain": [
              "array([ 1,  1,  1,  1,  1,  1,  1,  1,  1,  1,  1,  1,  1,  1,  1,  1,  1,\n",
              "        1,  1,  1,  1,  1,  1,  1,  1,  1,  1,  1,  1,  1,  1,  1,  1,  1,\n",
              "       10,  1,  1,  1,  1,  1,  1,  3,  5,  7,  1, 13, 12,  1,  1,  1,  1,\n",
              "        1,  1,  1,  1,  1,  1,  1,  1,  1,  1,  1,  1,  1,  1,  1,  1,  2,\n",
              "        1,  6,  1,  9, 11,  1,  1,  8,  4,  1,  1,  1,  1,  1,  1,  1,  1,\n",
              "        1,  1,  1,  1,  1,  1,  1])"
            ]
          },
          "metadata": {
            "tags": []
          },
          "execution_count": 9
        }
      ]
    },
    {
      "cell_type": "code",
      "metadata": {
        "id": "KBXcjgEzxMiD",
        "colab_type": "code",
        "colab": {}
      },
      "source": [
        "feat = feat_func()\n",
        "X_Xgboost = X[feat]"
      ],
      "execution_count": 0,
      "outputs": []
    },
    {
      "cell_type": "code",
      "metadata": {
        "id": "mY6jMsXjCFdf",
        "colab_type": "code",
        "colab": {}
      },
      "source": [
        "X_train, X_test, y_train, y_test = train_test_split(X_Xgboost, y, test_size = 0.4, random_state = 42)"
      ],
      "execution_count": 0,
      "outputs": []
    },
    {
      "cell_type": "code",
      "metadata": {
        "id": "S7sAJAztB5wl",
        "colab_type": "code",
        "outputId": "814513c2-4435-4140-b13d-50e544bc468f",
        "colab": {
          "base_uri": "https://localhost:8080/",
          "height": 68
        }
      },
      "source": [
        "model = xgb.XGBClassifier()\n",
        "model.fit(X_train, y_train)\n",
        "y_pred = model.predict(X_test)\n",
        "accuracy = metrics.accuracy_score(y_test, y_pred)\n",
        "print(\"Accuracy: %.2f%%\" % (accuracy * 100.0))\n",
        "recall = metrics.recall_score(y_test, y_pred)\n",
        "print(\"Recall: %.2f%%\" % (recall * 100.0))\n",
        "precision = metrics.precision_score(y_test, y_pred)\n",
        "print(\"Precision: %.2f%%\" % (precision * 100.0))"
      ],
      "execution_count": 0,
      "outputs": [
        {
          "output_type": "stream",
          "text": [
            "Accuracy: 83.69%\n",
            "Recall: 56.75%\n",
            "Precision: 71.14%\n"
          ],
          "name": "stdout"
        }
      ]
    },
    {
      "cell_type": "code",
      "metadata": {
        "id": "hFb8YLDAbeWZ",
        "colab_type": "code",
        "outputId": "a008a43d-b479-470e-aa56-ca7470f60817",
        "colab": {
          "base_uri": "https://localhost:8080/",
          "height": 119
        }
      },
      "source": [
        "# Random Forest with RFE\n",
        "estimator = RandomForestClassifier()\n",
        "selector = RFE(estimator, 75, step=1)\n",
        "selector = selector.fit(X, y)\n",
        "selector.ranking_"
      ],
      "execution_count": 0,
      "outputs": [
        {
          "output_type": "execute_result",
          "data": {
            "text/plain": [
              "array([ 1,  1,  1,  1,  1,  1,  7,  1,  1,  1,  1,  1,  1,  1,  1, 15,  1,\n",
              "        1,  1,  1,  1,  1,  1,  1,  1,  1,  1,  1,  1,  1,  1,  1,  1,  1,\n",
              "        1,  1,  1,  1,  1,  1,  1,  1,  1,  1,  1,  1,  2,  3,  1,  1,  1,\n",
              "        1,  1,  8,  4, 18, 17, 11,  6,  1,  1,  1,  1,  1,  1, 14,  1,  9,\n",
              "       16,  5,  1,  1,  1,  1, 13,  1,  1, 12, 10,  1,  1,  1,  1,  1,  1,\n",
              "        1,  1,  1,  1,  1,  1,  1])"
            ]
          },
          "metadata": {
            "tags": []
          },
          "execution_count": 15
        }
      ]
    },
    {
      "cell_type": "code",
      "metadata": {
        "id": "kaToUfYWV33z",
        "colab_type": "code",
        "colab": {}
      },
      "source": [
        "feat = feat_func()\n",
        "X_RF = X[feat]"
      ],
      "execution_count": 0,
      "outputs": []
    },
    {
      "cell_type": "code",
      "metadata": {
        "id": "URALEmEZaB9j",
        "colab_type": "code",
        "colab": {}
      },
      "source": [
        "X_train, X_test, y_train, y_test = train_test_split(X_RF, y, test_size = 0.4, random_state = 42)"
      ],
      "execution_count": 0,
      "outputs": []
    },
    {
      "cell_type": "code",
      "metadata": {
        "id": "BDZK2Kv_aF-5",
        "colab_type": "code",
        "outputId": "e9d52d9a-51cd-4a42-e30c-b717ba8bc276",
        "colab": {
          "base_uri": "https://localhost:8080/",
          "height": 68
        }
      },
      "source": [
        "model = RandomForestClassifier(max_depth=100, random_state=0)\n",
        "model.fit(X_train, y_train)\n",
        "y_pred = model.predict(X_test)\n",
        "accuracy = metrics.accuracy_score(y_test, y_pred)\n",
        "print(\"Accuracy: %.2f%%\" % (accuracy * 100.0))\n",
        "recall = metrics.recall_score(y_test, y_pred)\n",
        "print(\"Recall: %.2f%%\" % (recall * 100.0))\n",
        "precision = metrics.precision_score(y_test, y_pred)\n",
        "print(\"Precision: %.2f%%\" % (precision * 100.0))"
      ],
      "execution_count": 0,
      "outputs": [
        {
          "output_type": "stream",
          "text": [
            "Accuracy: 81.30%\n",
            "Recall: 56.12%\n",
            "Precision: 63.64%\n"
          ],
          "name": "stdout"
        }
      ]
    },
    {
      "cell_type": "code",
      "metadata": {
        "id": "BKipYai8HAn0",
        "colab_type": "code",
        "colab": {}
      },
      "source": [
        "# XGBoost with HPO\n",
        "X_train, X_test, y_train, y_test = train_test_split(X, y, test_size = 0.4, random_state = 42)"
      ],
      "execution_count": 0,
      "outputs": []
    },
    {
      "cell_type": "code",
      "metadata": {
        "id": "BJSYbgE2O664",
        "colab_type": "code",
        "outputId": "23517fd3-4b38-4475-af40-968cab208610",
        "colab": {
          "base_uri": "https://localhost:8080/",
          "height": 476
        }
      },
      "source": [
        "params={\n",
        "    \"learning_rate\"     :[0.05, 0.10, 0.15, 0.20, 0.25, 0.30],\n",
        "    \"max_depth\"         :[3,4,5,6,8,10,12,15],\n",
        "    \"min_child_weight\"  :[1,3,5,7],\n",
        "    \"gamma\"             :[0.0,0.1,0.2,0.3,0.4],\n",
        "    \"colsample_bytree\"  :[0.3,0.4,0.5,0.7]\n",
        "}\n",
        "\n",
        "model = xgb.XGBClassifier()\n",
        "random_search = RandomizedSearchCV(model, param_distributions=params, n_iter=5, scoring='roc_auc', n_jobs=-1, cv=5, verbose=3)\n",
        "random_search.fit(X_train,y_train)"
      ],
      "execution_count": 0,
      "outputs": [
        {
          "output_type": "stream",
          "text": [
            "Fitting 5 folds for each of 5 candidates, totalling 25 fits\n"
          ],
          "name": "stdout"
        },
        {
          "output_type": "stream",
          "text": [
            "[Parallel(n_jobs=-1)]: Using backend LokyBackend with 2 concurrent workers.\n",
            "[Parallel(n_jobs=-1)]: Done  25 out of  25 | elapsed:  2.9min finished\n"
          ],
          "name": "stderr"
        },
        {
          "output_type": "execute_result",
          "data": {
            "text/plain": [
              "RandomizedSearchCV(cv=5, error_score='raise-deprecating',\n",
              "                   estimator=XGBClassifier(base_score=0.5, booster='gbtree',\n",
              "                                           colsample_bylevel=1,\n",
              "                                           colsample_bynode=1,\n",
              "                                           colsample_bytree=1, gamma=0,\n",
              "                                           learning_rate=0.1, max_delta_step=0,\n",
              "                                           max_depth=3, min_child_weight=1,\n",
              "                                           missing=None, n_estimators=100,\n",
              "                                           n_jobs=1, nthread=None,\n",
              "                                           objective='binary:logistic',\n",
              "                                           random_state=0, reg_alpha=0...\n",
              "                                           seed=None, silent=None, subsample=1,\n",
              "                                           verbosity=1),\n",
              "                   iid='warn', n_iter=5, n_jobs=-1,\n",
              "                   param_distributions={'colsample_bytree': [0.3, 0.4, 0.5,\n",
              "                                                             0.7],\n",
              "                                        'gamma': [0.0, 0.1, 0.2, 0.3, 0.4],\n",
              "                                        'learning_rate': [0.05, 0.1, 0.15, 0.2,\n",
              "                                                          0.25, 0.3],\n",
              "                                        'max_depth': [3, 4, 5, 6, 8, 10, 12,\n",
              "                                                      15],\n",
              "                                        'min_child_weight': [1, 3, 5, 7]},\n",
              "                   pre_dispatch='2*n_jobs', random_state=None, refit=True,\n",
              "                   return_train_score=False, scoring='roc_auc', verbose=3)"
            ]
          },
          "metadata": {
            "tags": []
          },
          "execution_count": 55
        }
      ]
    },
    {
      "cell_type": "code",
      "metadata": {
        "id": "eWzPvEAjQUmb",
        "colab_type": "code",
        "outputId": "a4c3067f-6145-49ac-c3b8-9dd2b7dc329a",
        "colab": {
          "base_uri": "https://localhost:8080/",
          "height": 136
        }
      },
      "source": [
        "random_search.best_estimator_"
      ],
      "execution_count": 0,
      "outputs": [
        {
          "output_type": "execute_result",
          "data": {
            "text/plain": [
              "XGBClassifier(base_score=0.5, booster='gbtree', colsample_bylevel=1,\n",
              "              colsample_bynode=1, colsample_bytree=0.4, gamma=0.4,\n",
              "              learning_rate=0.15, max_delta_step=0, max_depth=12,\n",
              "              min_child_weight=7, missing=None, n_estimators=100, n_jobs=1,\n",
              "              nthread=None, objective='binary:logistic', random_state=0,\n",
              "              reg_alpha=0, reg_lambda=1, scale_pos_weight=1, seed=None,\n",
              "              silent=None, subsample=1, verbosity=1)"
            ]
          },
          "metadata": {
            "tags": []
          },
          "execution_count": 56
        }
      ]
    },
    {
      "cell_type": "code",
      "metadata": {
        "id": "2XnMyRHAQgUO",
        "colab_type": "code",
        "outputId": "8e5a7631-ec78-49d4-bf15-23e4ac60d073",
        "colab": {
          "base_uri": "https://localhost:8080/",
          "height": 102
        }
      },
      "source": [
        "random_search.best_params_"
      ],
      "execution_count": 0,
      "outputs": [
        {
          "output_type": "execute_result",
          "data": {
            "text/plain": [
              "{'colsample_bytree': 0.4,\n",
              " 'gamma': 0.4,\n",
              " 'learning_rate': 0.15,\n",
              " 'max_depth': 12,\n",
              " 'min_child_weight': 7}"
            ]
          },
          "metadata": {
            "tags": []
          },
          "execution_count": 57
        }
      ]
    },
    {
      "cell_type": "code",
      "metadata": {
        "id": "_dO-0yw0FadG",
        "colab_type": "code",
        "outputId": "db711588-3146-4546-9d69-5df3bfb7ff09",
        "colab": {
          "base_uri": "https://localhost:8080/",
          "height": 136
        }
      },
      "source": [
        "model = random_search.best_estimator_\n",
        "model.fit(X_train, y_train)"
      ],
      "execution_count": 0,
      "outputs": [
        {
          "output_type": "execute_result",
          "data": {
            "text/plain": [
              "XGBClassifier(base_score=0.5, booster='gbtree', colsample_bylevel=1,\n",
              "              colsample_bynode=1, colsample_bytree=0.4, gamma=0.4,\n",
              "              learning_rate=0.15, max_delta_step=0, max_depth=12,\n",
              "              min_child_weight=7, missing=None, n_estimators=100, n_jobs=1,\n",
              "              nthread=None, objective='binary:logistic', random_state=0,\n",
              "              reg_alpha=0, reg_lambda=1, scale_pos_weight=1, seed=None,\n",
              "              silent=None, subsample=1, verbosity=1)"
            ]
          },
          "metadata": {
            "tags": []
          },
          "execution_count": 58
        }
      ]
    },
    {
      "cell_type": "code",
      "metadata": {
        "id": "M_SnJwAFRxla",
        "colab_type": "code",
        "outputId": "86aa0a90-908e-45b5-ee0e-29b501e40405",
        "colab": {
          "base_uri": "https://localhost:8080/",
          "height": 68
        }
      },
      "source": [
        "y_pred = model.predict(X_test)\n",
        "accuracy = metrics.accuracy_score(y_test, y_pred)\n",
        "print(\"Accuracy: %.2f%%\" % (accuracy * 100.0))\n",
        "recall = metrics.recall_score(y_test, y_pred)\n",
        "print(\"Recall: %.2f%%\" % (recall * 100.0))\n",
        "precision = metrics.precision_score(y_test, y_pred)\n",
        "print(\"Precision: %.2f%%\" % (precision * 100.0))"
      ],
      "execution_count": 0,
      "outputs": [
        {
          "output_type": "stream",
          "text": [
            "Accuracy: 83.80%\n",
            "Recall: 59.35%\n",
            "Precision: 70.24%\n"
          ],
          "name": "stdout"
        }
      ]
    },
    {
      "cell_type": "code",
      "metadata": {
        "id": "tXfOGvdrR31R",
        "colab_type": "code",
        "colab": {}
      },
      "source": [
        "score=cross_val_score(model, X_train, y_train, cv=10)"
      ],
      "execution_count": 0,
      "outputs": []
    },
    {
      "cell_type": "code",
      "metadata": {
        "id": "GJh0fFGISk2Y",
        "colab_type": "code",
        "outputId": "2276d77f-1e7a-41ee-ab30-07b72e9583ba",
        "colab": {
          "base_uri": "https://localhost:8080/",
          "height": 68
        }
      },
      "source": [
        "print(score) \n",
        "print(score.mean())"
      ],
      "execution_count": 0,
      "outputs": [
        {
          "output_type": "stream",
          "text": [
            "[0.82645542 0.83271923 0.84450995 0.82498158 0.84156227 0.83265757\n",
            " 0.82860302 0.83744932 0.83849558 0.83702065]\n",
            "0.8344454584511276\n"
          ],
          "name": "stdout"
        }
      ]
    },
    {
      "cell_type": "code",
      "metadata": {
        "id": "yQiZlKzRKtO8",
        "colab_type": "code",
        "colab": {}
      },
      "source": [
        "# XGBoost parameter tuning reference\n",
        "# https://www.analyticsvidhya.com/blog/2016/03/complete-guide-parameter-tuning-xgboost-with-codes-python/\n",
        "# https://www.youtube.com/watch?v=9HomdnM12o4"
      ],
      "execution_count": 0,
      "outputs": []
    }
  ]
}